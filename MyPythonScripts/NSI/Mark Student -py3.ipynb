{
 "cells": [
  {
   "cell_type": "code",
   "execution_count": 1,
   "metadata": {
    "scrolled": true
   },
   "outputs": [
    {
     "name": "stdout",
     "output_type": "stream",
     "text": [
      "Combien d'élèves?    200\n",
      "Sur combien est-ce noté?  25\n"
     ]
    }
   ],
   "source": [
    "import random\n",
    "\n",
    "nmbreleves = int(input(\"Combien d'élèves?    \"))\n",
    "notesur = int(input(\"Sur combien est-ce noté?  \"))\n",
    "\n",
    "notes = []\n",
    "quantnotes = []\n",
    "\n",
    "def printlabels():\n",
    "  print(\"\")\n"
   ]
  },
  {
   "cell_type": "code",
   "execution_count": 2,
   "metadata": {},
   "outputs": [],
   "source": [
    "def finddigits(nombre):\n",
    "    digit = 1\n",
    "    while nombre > 9:\n",
    "        digit += 1\n",
    "        nombre = nombre// 10\n",
    "    return (digit)"
   ]
  },
  {
   "cell_type": "code",
   "execution_count": 3,
   "metadata": {},
   "outputs": [],
   "source": [
    "def printlegendes(totaldigit, notelegende):\n",
    "    for i in range(totaldigit):\n",
    "        for j in range (notesur+1):\n",
    "            if notelegende[j][i] == 'x':\n",
    "                print (\" \", end = \" \")\n",
    "            else:\n",
    "                print(notelegende[j][i], end = \" \")\n",
    "        print (\"\")"
   ]
  },
  {
   "cell_type": "code",
   "execution_count": 4,
   "metadata": {},
   "outputs": [],
   "source": [
    "def legendes():\n",
    "    notelegende = []\n",
    "    totaldigit = finddigits(notesur)\n",
    "    for i in range (notesur+1):\n",
    "        notelegende.append([])\n",
    "        for j in range (totaldigit):\n",
    "            notelegende[i].append('x')\n",
    "        idigit = finddigits(i)\n",
    "        modifiedi = i\n",
    "        for j in range (idigit):\n",
    "            thingToUse = modifiedi // 10**(idigit-1-j)\n",
    "            notelegende[i][j] = thingToUse\n",
    "            modifiedi -= thingToUse * 10**(idigit-1-j)\n",
    "    printlegendes(totaldigit, notelegende)"
   ]
  },
  {
   "cell_type": "code",
   "execution_count": 5,
   "metadata": {},
   "outputs": [],
   "source": [
    "\n",
    "def gennotes():\n",
    "  for i in range(nmbreleves):\n",
    "    notes.append(random.randint(0, notesur))\n",
    "\n",
    "def digitalizenotes():\n",
    "  for i in range (notesur + 1):\n",
    "    notetosearch = i\n",
    "    currentamount = 0\n",
    "    for j in range (nmbreleves):\n",
    "      if notes[j] == notetosearch:\n",
    "        currentamount += 1\n",
    "    quantnotes.append(currentamount)\n",
    "\n"
   ]
  },
  {
   "cell_type": "code",
   "execution_count": 6,
   "metadata": {},
   "outputs": [],
   "source": [
    "def findmaxnotes():\n",
    "  maxquant = 0\n",
    "  for i in range (notesur + 1):\n",
    "    if maxquant < quantnotes[i]:\n",
    "      maxquant = quantnotes[i]\n",
    "  return (maxquant)\n",
    "\n",
    "def printnotes():\n",
    "  for i in range (maxquant):  \n",
    "    printtier = maxquant - i\n",
    "    for j in range (notesur + 1):\n",
    "      if quantnotes[j] == printtier:\n",
    "        print(\"#\", end = \" \")\n",
    "        quantnotes[j] -= 1\n",
    "      else:\n",
    "        print(\" \", end = \" \")\n",
    "    print(\"\")\n",
    "\n"
   ]
  },
  {
   "cell_type": "code",
   "execution_count": 7,
   "metadata": {},
   "outputs": [
    {
     "name": "stdout",
     "output_type": "stream",
     "text": [
      "[14, 23, 22, 12, 23, 3, 2, 6, 5, 20, 1, 25, 12, 20, 12, 20, 19, 2, 16, 7, 17, 19, 25, 20, 19, 23, 24, 17, 15, 9, 2, 1, 13, 14, 6, 15, 24, 21, 10, 21, 6, 8, 24, 1, 25, 11, 18, 25, 0, 5, 24, 11, 10, 3, 20, 12, 8, 1, 6, 10, 9, 0, 10, 0, 6, 10, 2, 16, 8, 14, 4, 1, 9, 5, 12, 23, 9, 21, 23, 9, 5, 25, 6, 1, 17, 19, 13, 8, 4, 13, 8, 17, 9, 18, 20, 19, 21, 5, 8, 24, 6, 19, 6, 21, 2, 16, 24, 2, 20, 10, 16, 0, 5, 23, 19, 21, 8, 2, 0, 17, 21, 25, 23, 11, 8, 22, 24, 8, 6, 16, 17, 13, 3, 15, 10, 19, 5, 9, 14, 5, 25, 5, 13, 23, 9, 13, 13, 25, 9, 1, 18, 0, 15, 24, 23, 4, 11, 23, 10, 1, 15, 21, 19, 12, 19, 17, 20, 13, 1, 18, 14, 12, 23, 10, 12, 23, 21, 23, 8, 1, 16, 10, 23, 15, 3, 12, 13, 18, 10, 0, 23, 15, 18, 11, 5, 23, 1, 10, 6, 10]\n",
      "[7, 11, 7, 4, 3, 10, 10, 1, 10, 9, 13, 5, 9, 9, 5, 7, 6, 7, 6, 10, 8, 9, 2, 16, 8, 8]\n"
     ]
    }
   ],
   "source": [
    "gennotes()\n",
    "digitalizenotes()"
   ]
  },
  {
   "cell_type": "code",
   "execution_count": 8,
   "metadata": {},
   "outputs": [
    {
     "name": "stdout",
     "output_type": "stream",
     "text": [
      "                                              #     \n",
      "                                              #     \n",
      "                                              #     \n",
      "                    #                         #     \n",
      "                    #                         #     \n",
      "  #                 #                         #     \n",
      "  #       # #   #   #                 #       #     \n",
      "  #       # #   # # #   # #           #   #   #     \n",
      "  #       # #   # # #   # #           # # #   # # # \n",
      "# # #     # #   # # #   # #   #   #   # # #   # # # \n",
      "# # #     # #   # # #   # #   # # # # # # #   # # # \n",
      "# # #     # #   # # # # # # # # # # # # # #   # # # \n",
      "# # # #   # #   # # # # # # # # # # # # # #   # # # \n",
      "# # # # # # #   # # # # # # # # # # # # # #   # # # \n",
      "# # # # # # #   # # # # # # # # # # # # # # # # # # \n",
      "# # # # # # # # # # # # # # # # # # # # # # # # # # \n",
      "\n",
      "0 1 2 3 4 5 6 7 8 9 1 1 1 1 1 1 1 1 1 1 2 2 2 2 2 2 \n",
      "                    0 1 2 3 4 5 6 7 8 9 0 1 2 3 4 5 \n"
     ]
    }
   ],
   "source": [
    "maxquant = findmaxnotes()\n",
    "printnotes()\n",
    "printlabels()\n",
    "legendes()"
   ]
  },
  {
   "cell_type": "code",
   "execution_count": null,
   "metadata": {},
   "outputs": [],
   "source": []
  }
 ],
 "metadata": {
  "kernelspec": {
   "display_name": "Python 3",
   "language": "python",
   "name": "python3"
  },
  "language_info": {
   "codemirror_mode": {
    "name": "ipython",
    "version": 3
   },
   "file_extension": ".py",
   "mimetype": "text/x-python",
   "name": "python",
   "nbconvert_exporter": "python",
   "pygments_lexer": "ipython3",
   "version": "3.5.3"
  }
 },
 "nbformat": 4,
 "nbformat_minor": 2
}
